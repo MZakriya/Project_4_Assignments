{
  "nbformat": 4,
  "nbformat_minor": 0,
  "metadata": {
    "colab": {
      "provenance": [],
      "authorship_tag": "ABX9TyMpSWYIVLPzqA+36TguqGKW",
      "include_colab_link": true
    },
    "kernelspec": {
      "name": "python3",
      "display_name": "Python 3"
    },
    "language_info": {
      "name": "python"
    }
  },
  "cells": [
    {
      "cell_type": "markdown",
      "metadata": {
        "id": "view-in-github",
        "colab_type": "text"
      },
      "source": [
        "<a href=\"https://colab.research.google.com/github/MZakriya/Project_4_Assignments/blob/main/01_add_two_numbers.ipynb\" target=\"_parent\"><img src=\"https://colab.research.google.com/assets/colab-badge.svg\" alt=\"Open In Colab\"/></a>"
      ]
    },
    {
      "cell_type": "code",
      "execution_count": null,
      "metadata": {
        "id": "ZAulfO9b9MF8"
      },
      "outputs": [],
      "source": []
    },
    {
      "cell_type": "markdown",
      "source": [
        "**Problem Statement**\n",
        "\n",
        "Write a Python program that takes two integer inputs from the user and calculates their sum. The program should perform the following tasks:\n",
        "\n",
        "\n",
        "\n",
        "\n",
        "*   Prompt the user to enter the first number.\n",
        "*   Read the input and convert it to an integer.\n",
        "*   Prompt the user to enter the second number.\n",
        "*   Read the input and convert it to an integer.\n",
        "*   Calculate the sum of the two numbers.\n",
        "*   Print the total sum with an appropriate message.\n",
        "\n",
        "The provided solution demonstrates a working implementation of this problem, where the main() function guides the user through the process of entering two numbers and displays their sum.\n"
      ],
      "metadata": {
        "id": "3Sp6xeVfIBVK"
      }
    },
    {
      "cell_type": "code",
      "source": [
        "\"\"\"\n",
        "Program: add2numbers\n",
        "--------------------\n",
        "Another python program to get some practice with\n",
        "variables.  This program asks the user for two\n",
        "integers and prints their sum.\n",
        "\"\"\"\n",
        "\n",
        "def add():\n",
        "    print(\"This program adds two numbers.\")\n",
        "    num1 = input(\"Enter first number: \")\n",
        "    num1 = int(num1)\n",
        "    num2 = input(\"Enter second number: \")\n",
        "    num2 = int(num2)\n",
        "    total = num1 + num2\n",
        "    print(f\"The sum of {num1} and {num2} is: {[total]}\")\n",
        "\n",
        "# This provided line is required at the end of\n",
        "# Python file to call the main() function.\n",
        "if __name__ == '__main__':\n",
        "    add()"
      ],
      "metadata": {
        "colab": {
          "base_uri": "https://localhost:8080/"
        },
        "id": "xGgcGcxnIPzV",
        "outputId": "759053d7-9dde-4150-96e6-040b383e4374"
      },
      "execution_count": 7,
      "outputs": [
        {
          "output_type": "stream",
          "name": "stdout",
          "text": [
            "This program adds two numbers.\n",
            "Enter first number: 14\n",
            "Enter second number: 78\n",
            "The sum of 14 and 78 is: [92].\n"
          ]
        }
      ]
    }
  ]
}