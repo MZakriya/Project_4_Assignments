{
  "nbformat": 4,
  "nbformat_minor": 0,
  "metadata": {
    "colab": {
      "provenance": [],
      "authorship_tag": "ABX9TyOOLyR7Amv/o4mYpbLFjqqA",
      "include_colab_link": true
    },
    "kernelspec": {
      "name": "python3",
      "display_name": "Python 3"
    },
    "language_info": {
      "name": "python"
    }
  },
  "cells": [
    {
      "cell_type": "markdown",
      "metadata": {
        "id": "view-in-github",
        "colab_type": "text"
      },
      "source": [
        "<a href=\"https://colab.research.google.com/github/MZakriya/Project_4_Assignments/blob/main/00_intro_python.ipynb\" target=\"_parent\"><img src=\"https://colab.research.google.com/assets/colab-badge.svg\" alt=\"Open In Colab\"/></a>"
      ]
    },
    {
      "cell_type": "markdown",
      "source": [
        "# 01_add_two_numbers\n",
        "\n",
        "**Problem Statement**\n",
        "\n",
        "Write a Python program that takes two integer inputs from the user and calculates their sum. The program should perform the following tasks:\n",
        "\n",
        "* Prompt the user to enter the first number.\n",
        "* Read the input and convert it to an integer.\n",
        "* Prompt the user to enter the second number.\n",
        "* Read the input and convert it to an integer.\n",
        "* Calculate the sum of the two numbers.\n",
        "* Print the total sum with an appropriate message.\n",
        "\n",
        "The provided solution demonstrates a working implementation of this problem, where the main() function guides the user through the process of entering two numbers and displays their sum.\n",
        "\n",
        "\n",
        "\n",
        "\n",
        "\n"
      ],
      "metadata": {
        "id": "19ZbTR76LhoH"
      }
    },
    {
      "cell_type": "code",
      "source": [
        "print(\"01_add_two_numbers\")\n",
        "\n",
        "def add():\n",
        "    print(\"This program adds two numbers.\")\n",
        "    number1 : str = input(\"Enter first number: \")\n",
        "    number1 : int = int(number1)\n",
        "    number2  : str = input(\"Enter second number: \")\n",
        "    number2 : int = int(number2)\n",
        "    total : int = number1 + number2\n",
        "    print(f\"The total sum of {number1} and {number2} is: {[total]}\")\n",
        "\n",
        "if __name__ == '__main__':\n",
        "    add()"
      ],
      "metadata": {
        "colab": {
          "base_uri": "https://localhost:8080/"
        },
        "id": "fO07972mMSXH",
        "outputId": "4615ddca-fb76-4729-98f4-05a70c3c639c"
      },
      "execution_count": null,
      "outputs": [
        {
          "output_type": "stream",
          "name": "stdout",
          "text": [
            "01_add_two_numbers\n",
            "This program adds two numbers.\n",
            "Enter first number: 25\n",
            "Enter second number: 45\n",
            "The total sum of 25 and 45 is: [70]\n"
          ]
        }
      ]
    },
    {
      "cell_type": "markdown",
      "source": [
        "# 02_agreement_bot\n",
        "\n",
        "**Problem Statement**\n",
        "\n",
        "Write a program which asks the user what their favorite animal is, and then always responds with \"My favorite animal is also ___!\" (the blank should be filled in with the user-inputted animal, of course).\n",
        "\n",
        "Here's a sample run of the program (user input is in bold italics - note the space between the prompt and the user input!):\n",
        "\n",
        "What's your favorite animal? cow\n",
        "\n",
        "My favorite animal is also cow!"
      ],
      "metadata": {
        "id": "87BOHDWAS87U"
      }
    },
    {
      "cell_type": "code",
      "source": [
        "print(\"02_agreement_bot\")\n",
        "\n",
        "def bot():\n",
        "  print(\"This program asks the user what their favorite animal is.\")\n",
        "  fav_animal : str = input(\"What's your favorite animal? \")\n",
        "  print(f\"My favorite animal is also {fav_animal}!\")\n",
        "\n",
        "if __name__ == '__main__':\n",
        "    bot()"
      ],
      "metadata": {
        "colab": {
          "base_uri": "https://localhost:8080/"
        },
        "id": "_Vl_USEpTMlR",
        "outputId": "d6de5e3b-e35f-4a41-ce5e-7e9372b042c1"
      },
      "execution_count": null,
      "outputs": [
        {
          "output_type": "stream",
          "name": "stdout",
          "text": [
            "02_agreement_bot\n",
            "What's your favorite animal? cat\n",
            "My favorite animal is also cat!\n"
          ]
        }
      ]
    },
    {
      "cell_type": "markdown",
      "source": [
        "# 03_fahrenheit_to_celsius\n",
        "\n",
        "**Problem Statement**\n",
        "\n",
        "Write a program which prompts the user for a temperature in Fahrenheit (this can be a number with decimal places!) and outputs the temperature converted to Celsius.\n",
        "\n",
        "The Celsius scale is widely used to measure temperature, but places still use Fahrenheit. Fahrenheit is another unit for temperature, but the scale is different from Celsius -- for example, 0 degrees Celsius is 32 degrees Fahrenheit!\n",
        "\n",
        "The equation you should use for converting from Fahrenheit to Celsius is the following:\n",
        "\n",
        "degrees_celsius = (degrees_fahrenheit - 32) * 5.0/9.0\n",
        "\n",
        "(Note. The .0 after the 5 and 9 matters in the line above!!!)\n",
        "\n",
        "Here's a sample run of the program (user input is in bold italics):\n",
        "\n",
        "Enter temperature in Fahrenheit: 76\n",
        "\n",
        "Temperature: 76.0F = 24.444444444444443C"
      ],
      "metadata": {
        "id": "4FzGR752UxKW"
      }
    },
    {
      "cell_type": "code",
      "source": [
        "print(\"03_fahrenheit_to_celsius\")\n",
        "\n",
        "def temp():\n",
        "  print(\"This program converts fahrenheit to celsius.\")\n",
        "  fahrenheit_degrees = float(input(\"Enter temperature in Fahrenheit: \"))\n",
        "  celsius_degrees = (fahrenheit_degrees - 32) * 5.0/9.0\n",
        "  print(f\"Temperature: {fahrenheit_degrees}F = {celsius_degrees}C\")\n",
        "\n",
        "if __name__ == \"__main__\":\n",
        "  temp()"
      ],
      "metadata": {
        "id": "wX7mD40xVJX_",
        "colab": {
          "base_uri": "https://localhost:8080/"
        },
        "outputId": "4bc3b0e0-4bc8-49d4-ffa0-cf55a4d33bf7"
      },
      "execution_count": null,
      "outputs": [
        {
          "output_type": "stream",
          "name": "stdout",
          "text": [
            "03_fahrenheit_to_celsius\n",
            "This program for converting fahrenheit to celsius.\n",
            "Enter temperature in Fahrenheit: 86\n",
            "Temperature: 86.0 F = 30.0 C\n"
          ]
        }
      ]
    },
    {
      "cell_type": "markdown",
      "source": [
        "# 04_how_old_are_they\n",
        "\n",
        "**Problem Statement**\n",
        "\n",
        "Write a program to solve this age-related riddle!\n",
        "\n",
        "Anton, Beth, Chen, Drew, and Ethan are all friends. Their ages are as follows:\n",
        "\n",
        "Anton is 21 years old.\n",
        "\n",
        "Beth is 6 years older than Anton.\n",
        "\n",
        "Chen is 20 years older than Beth.\n",
        "\n",
        "Drew is as old as Chen's age plus Anton's age.\n",
        "\n",
        "Ethan is the same age as Chen.\n",
        "\n",
        "Your code should store each person's age to a variable and print their names and ages at the end. The autograder is sensitive to capitalization and punctuation, be careful! Your solution should look like this (the below numbers are made up -- your solution should have the correct values!):"
      ],
      "metadata": {
        "id": "nD07PV_ocPdo"
      }
    },
    {
      "cell_type": "markdown",
      "source": [
        "Anton is 3\n",
        "\n",
        "Beth is 4\n",
        "\n",
        "Chen is 5\n",
        "\n",
        "Drew is 6\n",
        "\n",
        "Ethan is 7"
      ],
      "metadata": {
        "id": "NdNYZi8zcnCo"
      }
    },
    {
      "cell_type": "code",
      "source": [
        "print(\"04_how_old_are_they\")\n",
        "\n",
        "def age():\n",
        "  print(\"This program solves the age-related riddle.\")\n",
        "  Anton : int = 21  # Anton's age is given as 21 years old\n",
        "  Beth : int = Anton + 6   # Beth is 6 years older than Anton, so add 6 to Anton's age to get Beth's\n",
        "  Chen : int = Beth + 20  # Chen is 20 years older than Beth, so add 20 to Beth's age to get Chen's\n",
        "  Drew : int = Chen + Anton  # Drew is as old as Chen's age plus Anton's age, so add them together\n",
        "  Ethan : int = Chen  # Ethan is the same age as Chen, so set Ethan's age equal to Chen's\n",
        "\n",
        "  # Now print out all of the ages!\n",
        "  print(f\"Anton is {Anton}\")\n",
        "  print(f\"Beth is {Beth}\")\n",
        "  print(f\"Chen is {Chen}\")\n",
        "  print(f\"Drew is {Drew}\")\n",
        "  print(f\"Ethan is {Ethan}\")\n",
        "\n",
        "if __name__ == \"__main__\":\n",
        "  age()"
      ],
      "metadata": {
        "colab": {
          "base_uri": "https://localhost:8080/"
        },
        "id": "CsBlcw6CcmtJ",
        "outputId": "3d379f1d-cd78-49f4-b8f9-29c84dfccbc0"
      },
      "execution_count": null,
      "outputs": [
        {
          "output_type": "stream",
          "name": "stdout",
          "text": [
            "04_how_old_are_they\n",
            "Anton is 21\n",
            "Beth is 27\n",
            "Chen is 47\n",
            "Drew is 68\n",
            "Ethan is 47\n"
          ]
        }
      ]
    },
    {
      "cell_type": "markdown",
      "source": [
        "# 05_triangle_perimeter\n",
        "\n",
        "**Problem Statement**\n",
        "\n",
        "Prompt the user to enter the lengths of each side of a triangle and then calculate and print the perimeter of the triangle (the sum of all of the side lengths).\n",
        "\n",
        "Here's a sample run of the program (user input is in bold italics):\n",
        "\n",
        "What is the length of side 1? 3\n",
        "\n",
        "What is the length of side 2? 4\n",
        "\n",
        "What is the length of side 3? 5.5\n",
        "\n",
        "The perimeter of the triangle is 12.5"
      ],
      "metadata": {
        "id": "8kg_vanTfgEE"
      }
    },
    {
      "cell_type": "code",
      "source": [
        "print(\"05_triangle_perimeter\")\n",
        "\n",
        "def triangle():\n",
        "  print(\"This program calculates the perimeter of a triangle.\")\n",
        "  side1 = float(input(\"Enter the lenght of side 1: \"))\n",
        "  side2 = float(input(\"Enter the lenght of side 2: \"))\n",
        "  side3 = float(input(\"Enter the lenght of side 3: \"))\n",
        "  perimeter = side1 + side2 + side3\n",
        "  print(f\"The perimeter of the triangle is {perimeter}\")\n",
        "\n",
        "if __name__ == \"__main__\":\n",
        "  triangle()"
      ],
      "metadata": {
        "colab": {
          "base_uri": "https://localhost:8080/"
        },
        "id": "F8uDK4KRgZoX",
        "outputId": "2c019ed2-2c1e-48bf-ab81-9cdd17c45fe5"
      },
      "execution_count": null,
      "outputs": [
        {
          "output_type": "stream",
          "name": "stdout",
          "text": [
            "05_triangle_perimeter\n",
            "Enter the lenght of side 1: 5\n",
            "Enter the lenght of side 2: 7\n",
            "Enter the lenght of side 3: 8\n",
            "The perimeter of the triangle is 20.0\n"
          ]
        }
      ]
    },
    {
      "cell_type": "markdown",
      "source": [
        "# 06_square_number\n",
        "\n",
        "**Problem Statement**\n",
        "\n",
        "Ask the user for a number and print its square (the product of the number times itself).\n",
        "\n",
        "Here's a sample run of the program (user input is in bold italics):\n",
        "\n",
        "Type a number to see its square: 4\n",
        "\n",
        "4.0 squared is 16.0"
      ],
      "metadata": {
        "id": "Dx9VxicDg2DK"
      }
    },
    {
      "cell_type": "code",
      "source": [
        "print(\"06_square_number\")\n",
        "\n",
        "def square():\n",
        "  print(\"This program calculates the square of a number.\")\n",
        "  number = float(input(\"Type a number to see its square: \"))\n",
        "  square = number * number\n",
        "  print(f\"{number} squared is {square}\")\n",
        "\n",
        "if __name__ == \"__main__\":\n",
        "  square()"
      ],
      "metadata": {
        "colab": {
          "base_uri": "https://localhost:8080/"
        },
        "id": "_FdM9vI8kmmj",
        "outputId": "edb32dc9-51d2-4073-f252-d844da3794a0"
      },
      "execution_count": null,
      "outputs": [
        {
          "output_type": "stream",
          "name": "stdout",
          "text": [
            "06_square_number\n",
            "This program calculates the square of a number.\n",
            "Type a number to see its square: 8\n",
            "8.0 squared is 64.0\n"
          ]
        }
      ]
    }
  ]
}