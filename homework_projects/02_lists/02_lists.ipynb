{
  "nbformat": 4,
  "nbformat_minor": 0,
  "metadata": {
    "colab": {
      "provenance": [],
      "authorship_tag": "ABX9TyNPMjTx9th6TjFp3PhvO95L",
      "include_colab_link": true
    },
    "kernelspec": {
      "name": "python3",
      "display_name": "Python 3"
    },
    "language_info": {
      "name": "python"
    }
  },
  "cells": [
    {
      "cell_type": "markdown",
      "metadata": {
        "id": "view-in-github",
        "colab_type": "text"
      },
      "source": [
        "<a href=\"https://colab.research.google.com/github/MZakriya/Project_4_Assignments/blob/main/02_lists.ipynb\" target=\"_parent\"><img src=\"https://colab.research.google.com/assets/colab-badge.svg\" alt=\"Open In Colab\"/></a>"
      ]
    },
    {
      "cell_type": "markdown",
      "source": [
        "# 01_add_many_number\n",
        "\n",
        "**Problem Statement**\n",
        "\n",
        "Write a function that takes a list of numbers and returns the sum of those numbers."
      ],
      "metadata": {
        "id": "hxZu740ePH7H"
      }
    },
    {
      "cell_type": "code",
      "source": [
        "print(\"01_add_many_number\")\n",
        "\n",
        "def add_number(numbers)-> int:\n",
        "  num : int = 0\n",
        "  for i in numbers:\n",
        "    num += i\n",
        "  return num\n",
        "\n",
        "def main():\n",
        "  numbers: list[int] = [1, 2, 3, 4, 5, 6, 7, 8]\n",
        "  sum : int = add_number(numbers)\n",
        "  print(sum)\n",
        "\n",
        "if __name__ == \"__main__\":\n",
        "  main()\n"
      ],
      "metadata": {
        "colab": {
          "base_uri": "https://localhost:8080/"
        },
        "id": "p2MRerIKPcZM",
        "outputId": "5bd60a15-a81a-4a37-ac30-eb467c1a1272"
      },
      "execution_count": 3,
      "outputs": [
        {
          "output_type": "stream",
          "name": "stdout",
          "text": [
            "01_add_many_number\n",
            "36\n"
          ]
        }
      ]
    },
    {
      "cell_type": "markdown",
      "source": [
        "# 02_double_list\n",
        "\n",
        "**Problem Statement**\n",
        "\n",
        "Write a program that doubles each element in a list of numbers. For example, if you start with this list:\n",
        "\n",
        "numbers = [1, 2, 3, 4]\n",
        "\n",
        "You should end with this list:\n",
        "\n",
        "numbers = [2, 4, 6, 8]"
      ],
      "metadata": {
        "id": "fcICVauVSx7d"
      }
    },
    {
      "cell_type": "code",
      "source": [
        "print(\"02_double_list\")\n",
        "\n",
        "def main():\n",
        "    numbers: list[int] = [1,2,3,4,5,6]\n",
        "    for i in range(len(numbers)):\n",
        "     elem_at_index = numbers[i]\n",
        "     double_numbers = elem_at_index*2\n",
        "     print(double_numbers)\n",
        "if __name__ == \"__main__\":\n",
        "    main()"
      ],
      "metadata": {
        "colab": {
          "base_uri": "https://localhost:8080/"
        },
        "id": "NENe7XS8Sy-0",
        "outputId": "01864e9e-1a7e-4fa9-b3df-630131cf5524"
      },
      "execution_count": 1,
      "outputs": [
        {
          "output_type": "stream",
          "name": "stdout",
          "text": [
            "02_double_list\n",
            "2\n",
            "4\n",
            "6\n",
            "8\n",
            "10\n",
            "12\n"
          ]
        }
      ]
    },
    {
      "cell_type": "markdown",
      "source": [
        "# 04_flowing_with_data_structures\n",
        "\n",
        "**Problem Statement**\n",
        "\n",
        "In the information flow lesson, we discussed using a variable storing a number as an example of scope. We saw that changes we made to the number inside a function did not stay unless we returned it. This is true for what we call immutable data types which include things like numbers and strings.\n",
        "\n",
        "However, there are also mutable data types where changes stay even if we don't return anything. Some examples of mutable data types are lists and dictionaries. This means that you should be mindful when modifying lists and dictionaries within helper functions since their changes stay whether or not you return them.\n",
        "\n",
        "To see this in action, fill out the add_three_copies(...) function which takes a list and some data and then adds three copies of the data to the list. Don't return anything and see what happens! Compare this process to the x = change(x) example and note the differences.\n",
        "\n",
        "Here is an example run of this program (user input in bold italics):\n",
        "\n",
        "Enter a message to copy: Hello world!\n",
        "\n",
        "List before: []\n",
        "\n",
        "List after: ['Hello world!', 'Hello world!', 'Hello world!']\n",
        "\n",
        "(Note. The concept of immutable/mutable data types is called mutability. Be careful because different programming languages have different rules regarding mutability!)"
      ],
      "metadata": {
        "id": "0ostqO6xLjak"
      }
    },
    {
      "cell_type": "code",
      "source": [
        "print(\"04_flowing_with_data_structures\")\n",
        "\n",
        "def add_three_copies(lst: list, data):\n",
        "  for i in range(3):\n",
        "    lst.append(data)\n",
        "\n",
        "def main():\n",
        "  message: str = input(\"Enter a message to copy: \")\n",
        "  lst: list = []\n",
        "  print(\"List before:\", lst)\n",
        "  add_three_copies(lst,message)\n",
        "  print(\"List After\",lst)\n",
        "\n",
        "if __name__ == \"__main__\":\n",
        "  main()"
      ],
      "metadata": {
        "colab": {
          "base_uri": "https://localhost:8080/"
        },
        "id": "MZWrJjVgLvCz",
        "outputId": "f18ef591-c188-446b-f13c-205e08441e98"
      },
      "execution_count": 3,
      "outputs": [
        {
          "output_type": "stream",
          "name": "stdout",
          "text": [
            "04_flowing_with_data_structures\n",
            "Enter a message to copy: kk\n",
            "List before: []\n",
            "List After ['kk', 'kk', 'kk']\n"
          ]
        }
      ]
    },
    {
      "cell_type": "markdown",
      "source": [
        "# 05_get_first_element\n",
        "\n",
        "P**roblem Statement**\n",
        "\n",
        "Fill out the function get_first_element(lst) which takes in a list lst as a parameter and prints the first element in the list. The list is guaranteed to be non-empty. We've written some code for you which prompts the user to input the list one element at a time."
      ],
      "metadata": {
        "id": "yxYtWz4COeSC"
      }
    },
    {
      "cell_type": "code",
      "source": [
        "print(\"05_get_first_element\")\n",
        "\n",
        "def get_first_element(lst: list):\n",
        "  print(lst[0])\n",
        "\n",
        "def get_lst():\n",
        "  lst: list = []\n",
        "  while True:\n",
        "    lst = []\n",
        "    elem: str = input(\"Please enter an element of the list or press enter to stop. \")\n",
        "    while elem != \"\":\n",
        "        lst.append(elem)\n",
        "        elem = input(\"Please enter an element of the list or press enter to stop. \")\n",
        "    return lst\n",
        "\n",
        "def main():\n",
        "  lst: list = get_lst()\n",
        "  get_first_element(lst)\n",
        "\n",
        "if __name__ == \"__main__\":\n",
        "  main()"
      ],
      "metadata": {
        "colab": {
          "base_uri": "https://localhost:8080/"
        },
        "id": "lyDmHtqdOpFk",
        "outputId": "ceb8fb26-da47-40b8-d25a-a19afa427e19"
      },
      "execution_count": 11,
      "outputs": [
        {
          "output_type": "stream",
          "name": "stdout",
          "text": [
            "05_get_first_element\n",
            "Please enter an element of the list or press enter to stop. zakriya\n",
            "Please enter an element of the list or press enter to stop. \n",
            "zakriya\n"
          ]
        }
      ]
    },
    {
      "cell_type": "markdown",
      "source": [
        "# 06_get_last_element\n",
        "\n",
        "**Problem Statement**\n",
        "\n",
        "Fill out the function get_last_element(lst) which takes in a list lst as a parameter and prints the last element in the list. The list is guaranteed to be non-empty, but there are no guarantees on its length."
      ],
      "metadata": {
        "id": "2wspD7hDQpVj"
      }
    },
    {
      "cell_type": "code",
      "source": [
        "print(\"06_get_last_element\")\n",
        "\n",
        "def get_last_element(lst: list):\n",
        "  print(lst[-1])\n",
        "\n",
        "def get_lst():\n",
        "  lst: list = []\n",
        "  elem: str = input(\"Please enter an element of the list or press enter to stop. \")\n",
        "  while elem != \"\":\n",
        "      lst.append(elem)\n",
        "      elem = input(\"Please enter an element of the list or press enter to stop. \")\n",
        "  return lst\n",
        "def main():\n",
        "    lst = get_lst()\n",
        "    get_last_element(lst)\n",
        "\n",
        "\n",
        "if __name__ == '__main__':\n",
        "    main()"
      ],
      "metadata": {
        "colab": {
          "base_uri": "https://localhost:8080/"
        },
        "id": "l4r48z1MQt8t",
        "outputId": "e7a7d448-82d5-4f77-8d3f-8ca5374aba75"
      },
      "execution_count": 14,
      "outputs": [
        {
          "output_type": "stream",
          "name": "stdout",
          "text": [
            "06_get_last_element\n",
            "Please enter an element of the list or press enter to stop. apple\n",
            "Please enter an element of the list or press enter to stop. bat\n",
            "Please enter an element of the list or press enter to stop. cat\n",
            "Please enter an element of the list or press enter to stop. dog\n",
            "Please enter an element of the list or press enter to stop. eat\n",
            "Please enter an element of the list or press enter to stop. fish\n",
            "Please enter an element of the list or press enter to stop. \n",
            "fish\n"
          ]
        }
      ]
    },
    {
      "cell_type": "markdown",
      "source": [
        "# 07_get_list\n",
        "\n",
        "**Problem Statement**\n",
        "\n",
        "Write a program which continuously asks the user to enter values which are added one by one into a list. When the user presses enter without typing anything, print the list.\n",
        "\n",
        "Here's a sample run (user input is in blue):\n",
        "\n",
        "Enter a value: 1 Enter a value: 2 Enter a value: 3 Enter a value: Here's the list: ['1', '2', '3']\n",
        "\n"
      ],
      "metadata": {
        "id": "Y2_7dJ-wR3xH"
      }
    },
    {
      "cell_type": "code",
      "source": [
        "print(\"07_get_list\")\n",
        "\n",
        "def get_list():\n",
        "    lst = []\n",
        "    val = input(\"Enter a value: \")  # Get an initial value\n",
        "    while val:  # While the user input isn't an empty value\n",
        "        lst.append(val) # Add val to list\n",
        "        val = input(\"Enter a value: \")  # Get the next value to add\n",
        "    print(\"Here's the list:\", lst)\n",
        "\n",
        "if __name__ == '__main__':\n",
        "    get_list()"
      ],
      "metadata": {
        "colab": {
          "base_uri": "https://localhost:8080/"
        },
        "id": "lqMu4YceR76f",
        "outputId": "06d425af-ad59-42fb-cc00-220aba9bb076"
      },
      "execution_count": 16,
      "outputs": [
        {
          "output_type": "stream",
          "name": "stdout",
          "text": [
            "07_get_list\n",
            "Enter a value: gh\n",
            "Enter a value: wd\n",
            "Enter a value: \n",
            "Here's the list: ['gh', 'wd']\n"
          ]
        }
      ]
    },
    {
      "cell_type": "markdown",
      "source": [
        "# 08_shorten\n",
        "\n",
        "**Problem Statement**\n",
        "\n",
        "Fill out the function shorten(lst) which removes elements from the end of lst, which is a list, and prints each item it removes until lst is MAX_LENGTH items long. If lst is already shorter than MAX_LENGTH you should leave it unchanged. We've written a main() function for you which gets a list and passes it into your function once you run the program. For the autograder to pass you will need MAX_LENGTH to be 3, but feel free to change it around to test your program."
      ],
      "metadata": {
        "id": "ReX2m4WjSsug"
      }
    },
    {
      "cell_type": "code",
      "source": [
        "print(\"08_shorten\")\n",
        "\n",
        "MAX_LENGTH : int = 3\n",
        "\n",
        "def shorten(lst):\n",
        "    while len(lst) > MAX_LENGTH:\n",
        "        last_elem = lst.pop()\n",
        "        print('extra items:',last_elem)\n",
        "    print('original list: shorten to three elements: ',lst)\n",
        "\n",
        "def get_lst():\n",
        "    lst = []\n",
        "    elem = input(\"Please enter an element of the list or press enter to stop. \")\n",
        "    while elem != \"\":\n",
        "        lst.append(elem)\n",
        "        elem = input(\"Please enter an element of the list or press enter to stop. \")\n",
        "    return lst\n",
        "\n",
        "def main():\n",
        "    lst = get_lst()\n",
        "    shorten(lst)\n",
        "\n",
        "if __name__ == '__main__':\n",
        "    main()"
      ],
      "metadata": {
        "colab": {
          "base_uri": "https://localhost:8080/"
        },
        "id": "nVm5oQgOSyp6",
        "outputId": "1dcd1067-4036-4ed8-bf80-71664312de63"
      },
      "execution_count": 17,
      "outputs": [
        {
          "output_type": "stream",
          "name": "stdout",
          "text": [
            "08_shorten\n",
            "Please enter an element of the list or press enter to stop. hjkl\n",
            "Please enter an element of the list or press enter to stop. dvfagd\n",
            "Please enter an element of the list or press enter to stop. dsfg\n",
            "Please enter an element of the list or press enter to stop. df\n",
            "Please enter an element of the list or press enter to stop. \n",
            "extra items: df\n",
            "original list: shorten to three elements:  ['hjkl', 'dvfagd', 'dsfg']\n"
          ]
        }
      ]
    }
  ]
}