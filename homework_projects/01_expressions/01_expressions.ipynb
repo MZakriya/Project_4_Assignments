{
  "nbformat": 4,
  "nbformat_minor": 0,
  "metadata": {
    "colab": {
      "provenance": [],
      "authorship_tag": "ABX9TyPXPrVijNPijJW9GT+0enR7",
      "include_colab_link": true
    },
    "kernelspec": {
      "name": "python3",
      "display_name": "Python 3"
    },
    "language_info": {
      "name": "python"
    }
  },
  "cells": [
    {
      "cell_type": "markdown",
      "metadata": {
        "id": "view-in-github",
        "colab_type": "text"
      },
      "source": [
        "<a href=\"https://colab.research.google.com/github/MZakriya/Project_4_Assignments/blob/main/01_expressions.ipynb\" target=\"_parent\"><img src=\"https://colab.research.google.com/assets/colab-badge.svg\" alt=\"Open In Colab\"/></a>"
      ]
    },
    {
      "cell_type": "markdown",
      "source": [
        "# 01_dicesimulator\n",
        "\n",
        "**Problem Statement**\n",
        "\n",
        "Simulate rolling two dice, three times. Prints the results of each die roll. This program is used to show how variable scope works."
      ],
      "metadata": {
        "id": "PXqAy6lHmuAf"
      }
    },
    {
      "cell_type": "code",
      "source": [
        "import random\n",
        "print(\"01_dicesimulator\")\n",
        "\n",
        "def roll_dice():\n",
        "  print()\n",
        "  die1 : int = random.randint(1, 6)\n",
        "  die2 : int = random.randint(1, 6)\n",
        "  total : int = die1 + die2\n",
        "  print(f\"Total of two dies: {total}\")\n",
        "\n",
        "def main():\n",
        "  die1 : int = 8\n",
        "  print(\"die1 in main() starts as: \" + str(die1))\n",
        "  roll_dice()\n",
        "  roll_dice()\n",
        "  roll_dice()\n",
        "  print(\"die1 in main() ends as: \" + str(die1))\n",
        "\n",
        "if __name__ == \"__main__\":\n",
        "  main()"
      ],
      "metadata": {
        "colab": {
          "base_uri": "https://localhost:8080/"
        },
        "id": "QLkrGW2DnDRO",
        "outputId": "7b9d0790-bb6c-4399-e826-a616663cb7f8"
      },
      "execution_count": 2,
      "outputs": [
        {
          "output_type": "stream",
          "name": "stdout",
          "text": [
            "01_dicesimulator\n",
            "die1 in main() starts as: 8\n",
            "\n",
            "Total of two dies: 7\n",
            "\n",
            "Total of two dies: 4\n",
            "\n",
            "Total of two dies: 7\n",
            "die1 in main() ends as: 8\n"
          ]
        }
      ]
    },
    {
      "cell_type": "markdown",
      "source": [
        "# 02_e=mc2\n",
        "\n",
        "**Problem Statement**\n",
        "\n",
        "Write a program that continually reads in mass from the user and then outputs the equivalent energy using Einstein's mass-energy equivalence formula (E stands for energy, m stands for mass, and C is the speed of light:\n",
        "\n",
        "E = m * c**2\n",
        "\n",
        "Almost 100 years ago, Albert Einstein famously discovered that mass and energy are interchangeable and are related by the above equation. You should ask the user for mass (m) in kilograms and use a constant value for the speed of light -- C = 299792458 m/s.\n",
        "\n",
        "Here's a sample run of the program (user input is in bold italics):\n",
        "\n",
        "Enter kilos of mass: 100\n",
        "\n",
        "e = m * C^2...\n",
        "\n",
        "m = 100.0 kg\n",
        "\n",
        "C = 299792458 m/s\n",
        "\n",
        "8.987551787368176e+18 joules of energy!"
      ],
      "metadata": {
        "id": "rqxvVwBbgcUa"
      }
    },
    {
      "cell_type": "code",
      "source": [
        "print(\"02_e=mc2\")\n",
        "\n",
        "def energy():\n",
        "  c : float = 299792458\n",
        "  m : float = float(input (\"Enter kilos of mass: \"))\n",
        "  e : float = m * (c ** 2)\n",
        "\n",
        "  print(f\"e = m * c^2\")\n",
        "  print(f\"m = {m} kg\")\n",
        "  print(f\"c = {c} m/s\")\n",
        "  print(f\"{e} joules of energy!\")\n",
        "\n",
        "\n",
        "if __name__ == \"__main__\":\n",
        "  energy()"
      ],
      "metadata": {
        "colab": {
          "base_uri": "https://localhost:8080/"
        },
        "id": "PzWOVscIgoJl",
        "outputId": "f75074d7-eb79-4fd2-fe2d-47fb6b23de1f"
      },
      "execution_count": 4,
      "outputs": [
        {
          "output_type": "stream",
          "name": "stdout",
          "text": [
            "02_e=mc2\n",
            "Enter kilos of mass: 87\n",
            "e = m * c^2\n",
            "m = 87.0 kg\n",
            "c = 299792458 m/s\n",
            "7.819170055010313e+18 joules of energy!\n"
          ]
        }
      ]
    },
    {
      "cell_type": "markdown",
      "source": [
        "# 03_feet_to_inches\n",
        "\n",
        "**Problem Statement**\n",
        "\n",
        "Converts feet to inches. Feet is an American unit of measurement. There are 12 inches per foot. Foot is the singular, and feet is the plural."
      ],
      "metadata": {
        "id": "STIMCVq-khYA"
      }
    },
    {
      "cell_type": "code",
      "source": [
        "print(\"03_feet_to_inches\")\n",
        "\n",
        "def feet_to_inches():\n",
        "  foot : float = 12\n",
        "  feet: float = float(input(\"Enter number of feet: \"))\n",
        "  inches : float = feet * foot\n",
        "  print(f\"That is {inches} inches.\")\n",
        "\n",
        "if __name__ == \"__main__\":\n",
        "  feet_to_inches()"
      ],
      "metadata": {
        "colab": {
          "base_uri": "https://localhost:8080/"
        },
        "id": "VuZTD-l0k0JN",
        "outputId": "af93fc25-deb8-4e33-e136-257a1458aa5f"
      },
      "execution_count": 9,
      "outputs": [
        {
          "output_type": "stream",
          "name": "stdout",
          "text": [
            "03_feet_to_inches\n",
            "Enter number of feet: 89\n",
            "That is 1068.0 inches.\n"
          ]
        }
      ]
    },
    {
      "cell_type": "markdown",
      "source": [
        "# 04_pythagorean_theorem\n",
        "\n",
        "**Problem Statement**\n",
        "\n",
        "Write a program that asks the user for the lengths of the two perpendicular sides of a right triangle and outputs the length of the third side (the hypotenuse) using the Pythagorean theorem!\n",
        "\n",
        "The Pythagorean theorem, named after the ancient Greek thinker, Pythagoras, is a fundamental relation in geometry. It states that in a right triangle, the square of the hypotenuse is equal to the sum of the square of the other two sides.\n",
        "\n",
        "For instance, let's consider a right triangle ABC, with the right angle located at C. According to the Pythagorean theorem:\n",
        "\n",
        "BC ** 2 = AB ** 2 + AC ** 2\n",
        "\n",
        "Your code should read in the lengths of the sides AB and AC, and that outputs the length of the hypotenuse (BC). You will probably find math.sqrt() to be useful.\n",
        "\n",
        "Here's a sample run of the program (user input is in bold italics):\n",
        "\n",
        "Enter the length of AB: 3\n",
        "\n",
        "Enter the length of AC: 4\n",
        "\n",
        "The length of BC (the hypotenuse) is: 5.0"
      ],
      "metadata": {
        "id": "9epbzVUYobhJ"
      }
    },
    {
      "cell_type": "code",
      "source": [
        "import math\n",
        "\n",
        "print(\"04_pythagorean_theorem\")\n",
        "\n",
        "def pythagorean_theorem():\n",
        "  AB : float = float(input(\"Enter the lenght of AB: \"))\n",
        "  AC : float = float(input(\"Enter the lenght of AC: \"))\n",
        "  BC : float = math.sqrt(AB ** 2 + AC ** 2)\n",
        "  print(f\"The lenght of BC (the hypotenuse) is: {BC}\")\n",
        "\n",
        "if __name__ == \"__main__\":\n",
        "  pythagorean_theorem()"
      ],
      "metadata": {
        "colab": {
          "base_uri": "https://localhost:8080/"
        },
        "id": "ymwDy1i7o2sN",
        "outputId": "00a3e3e5-13da-46a0-dc43-875d1e8a3910"
      },
      "execution_count": 10,
      "outputs": [
        {
          "output_type": "stream",
          "name": "stdout",
          "text": [
            "04_pythagorean_theorem\n",
            "Enter the lenght of AB: 8\n",
            "Enter the lenght of AC: 6\n",
            "The lenght of BC (the hypotenuse) is: 10.0\n"
          ]
        }
      ]
    },
    {
      "cell_type": "markdown",
      "source": [
        "# 05_remainder_division\n",
        "\n",
        "**Problem Statement**\n",
        "\n",
        "Ask the user for two numbers, one at a time, and then print the result of dividing the first number by the second and also the remainder of the division.\n",
        "\n",
        "Here's a sample run of the program (user input is in bold italics):\n",
        "\n",
        "Please enter an integer to be divided: 5\n",
        "\n",
        "Please enter an integer to divide by: 3\n",
        "\n",
        "The result of this division is 1 with a remainder of 2"
      ],
      "metadata": {
        "id": "KOWWrTcEt-wc"
      }
    },
    {
      "cell_type": "code",
      "source": [
        "print(\"05_remainder_division\")\n",
        "\n",
        "def reminder():\n",
        "  num1 : int = int(input(\"Please enter an integer to be divided: \"))\n",
        "  num2 : int = int(input(\"Please enter an integer to divide by: \"))\n",
        "  result : int = num1 // num2\n",
        "  reminder : int = num1 % num2\n",
        "  print(f\"The result of this division is {result} with a reminder of {reminder}\")\n",
        "\n",
        "if __name__ == \"__main__\":\n",
        "  reminder()"
      ],
      "metadata": {
        "colab": {
          "base_uri": "https://localhost:8080/"
        },
        "id": "r-0BFhbBuFv9",
        "outputId": "9654340c-81f9-4888-a290-52a8188481be"
      },
      "execution_count": 12,
      "outputs": [
        {
          "output_type": "stream",
          "name": "stdout",
          "text": [
            "05_remainder_division\n",
            "Please enter an integer to be divided: 20\n",
            "Please enter an integer to divide by: 2\n",
            "The result of this division is 10 with a reminder of 0\n"
          ]
        }
      ]
    },
    {
      "cell_type": "markdown",
      "source": [
        "# 06_rolldice\n",
        "\n",
        "**Problem Statement**\n",
        "\n",
        "Simulate rolling two dice, and prints results of each roll as well as the total."
      ],
      "metadata": {
        "id": "JZs2_gx0xngQ"
      }
    },
    {
      "cell_type": "code",
      "source": [
        "import random\n",
        "print(\"06_rolldice.\")\n",
        "\n",
        "def roll_dice():\n",
        "  num_sides : int = 6\n",
        "  die1: int = random.randint(1, num_sides)\n",
        "  die2: int = random.randint(1, num_sides)\n",
        "  total: int = die1 + die2\n",
        "  print(f\"Dice have {num_sides} sides.\")\n",
        "  print(f\"Die 1 rolled a {die1}.\")\n",
        "  print(f\"Die 2 rolled a {die2}.\")\n",
        "  print(f\"Total of two dies: {total}\")\n",
        "\n",
        "if __name__ == \"__main__\":\n",
        "  roll_dice()"
      ],
      "metadata": {
        "colab": {
          "base_uri": "https://localhost:8080/"
        },
        "id": "_r1pSt0Dxxtn",
        "outputId": "6c3e4749-b241-4fac-dab8-3b170e843411"
      },
      "execution_count": 30,
      "outputs": [
        {
          "output_type": "stream",
          "name": "stdout",
          "text": [
            "06_rolldice.\n",
            "Dice have 6 sides.\n",
            "Die 1 rolled a 5.\n",
            "Die 2 rolled a 4.\n",
            "Total of two dies: 9\n"
          ]
        }
      ]
    },
    {
      "cell_type": "markdown",
      "source": [
        "# 06_seconds_in_year\n",
        "\n",
        "**Problem Statement**\n",
        "\n",
        "Use Python to calculate the number of seconds in a year, and tell the user what the result is in a nice print statement that looks like this (of course the value 5 should be the calculated number instead):\n",
        "\n",
        "There are 5 seconds in a year!\n",
        "\n",
        "You should use constants for this exercise -- there are 365 days in a year, 24 hours in a day, 60 minutes in an hour, and 60 seconds per minute."
      ],
      "metadata": {
        "id": "otyk-JsM7U-n"
      }
    },
    {
      "cell_type": "code",
      "source": [
        "print(\"06_seconds_in_year\")\n",
        "\n",
        "def seconds():\n",
        "  days : int = 365\n",
        "  hours : int = 24\n",
        "  minutes : int = 60\n",
        "  seconds : int = 60\n",
        "  seconds_in_year : int = days * hours * minutes * seconds\n",
        "  print(f\"There are {seconds_in_year} seconds in a year!\")\n",
        "  print(f\"You can calculate the number of seconds in your life.\")\n",
        "  age : int = int(input(\"Enter Your Age: \"))\n",
        "  seconds_in_life : int = seconds_in_year * age\n",
        "  print(f\"There are {seconds_in_life} seconds in your life!\")\n",
        "\n",
        "\n",
        "if __name__ == \"__main__\":\n",
        "  seconds()"
      ],
      "metadata": {
        "colab": {
          "base_uri": "https://localhost:8080/"
        },
        "id": "wpDOdhUd7dAu",
        "outputId": "810c8402-5d61-432d-ebb5-eb6632ead1a0"
      },
      "execution_count": 32,
      "outputs": [
        {
          "output_type": "stream",
          "name": "stdout",
          "text": [
            "06_seconds_in_year\n",
            "There are 31536000 seconds in a year!\n",
            "You can calculate the number of seconds in your life.\n",
            "Enter Your Age: 59\n",
            "There are 1860624000 seconds in your life!\n"
          ]
        }
      ]
    },
    {
      "cell_type": "markdown",
      "source": [
        "# 07_tiny_mad_lib\n",
        "\n",
        "**Problem Statement**\n",
        "\n",
        "Write a program which prompts the user for an adjective, then a noun, then a verb, and then prints a fun sentence with those words!\n",
        "\n",
        "Mad Libs is a word game where players are prompted for one word at a time, and the words are eventually filled into the blanks of a word template to make an entertaining story! We've provided you with the beginning of a sentence (the SENTENCE_START constant) which will end in a user-inputted adjective, noun, and then verb.\n",
        "\n",
        "Here's a sample run (user input is in bold italics):\n",
        "\n",
        "Please type an adjective and press enter. tiny\n",
        "\n",
        "Please type a noun and press enter. plant\n",
        "\n",
        "Please type a verb and press enter. fly\n",
        "\n",
        "Code in Place is fun. I learned to program and used Python to make my tiny plant fly!"
      ],
      "metadata": {
        "id": "CJX8RF0z-BuD"
      }
    },
    {
      "cell_type": "code",
      "source": [
        "print (\"07_tiny_mad_lib\")\n",
        "\n",
        "def mad_lib():\n",
        "  SENTENCE_START : str = \"Code in Place is fun. I learned to program and used Python to make my \"\n",
        "  adjective : str = input(\"Please type an adjective and press enter. \")\n",
        "  noun : str = input(\"Please type a noun and press enter. \")\n",
        "  verb : str = input(\"Please type a verb and press enter. \")\n",
        "  sentence : str = SENTENCE_START + adjective + \" \" + noun + \" \" + verb + \"!\"\n",
        "  print(sentence)\n",
        "\n",
        "if __name__ == \"__main__\":\n",
        "  mad_lib()"
      ],
      "metadata": {
        "colab": {
          "base_uri": "https://localhost:8080/"
        },
        "id": "tC-cXl-F-40y",
        "outputId": "142322a8-357a-4f77-e30f-8c66f95eb55a"
      },
      "execution_count": 1,
      "outputs": [
        {
          "output_type": "stream",
          "name": "stdout",
          "text": [
            "07_tiny_mad_lib\n",
            "Please type an adjective and press enter. intersted\n",
            "Please type a noun and press enter. java\n",
            "Please type a verb and press enter. learning\n",
            "Code in Place is fun. I learned to program and used Python to make my intersted java learning!\n"
          ]
        }
      ]
    }
  ]
}